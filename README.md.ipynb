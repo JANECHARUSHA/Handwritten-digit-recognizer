{
 "cells": [
  {
   "cell_type": "code",
   "execution_count": null,
   "id": "db4ee3b0",
   "metadata": {},
   "outputs": [],
   "source": []
  },
  {
   "cell_type": "markdown",
   "id": "3c797c1c",
   "metadata": {},
   "source": []
  }
 ],
 "metadata": {
  "language_info": {
   "name": "python"
  }
 },
 "nbformat": 4,
 "nbformat_minor": 5
}
